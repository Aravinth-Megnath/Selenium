{
 "cells": [
  {
   "cell_type": "code",
   "execution_count": null,
   "id": "cc2b3611",
   "metadata": {},
   "outputs": [],
   "source": [
    "import pandas as pd\n",
    "df = pd.read_csv(r\"C:\\Users\\Hp\\Selenium\\andhra.csv\")\n",
    "df.columns"
   ]
  },
  {
   "cell_type": "code",
   "execution_count": null,
   "id": "e170fe06",
   "metadata": {},
   "outputs": [],
   "source": [
    "import sqlite3"
   ]
  },
  {
   "cell_type": "code",
   "execution_count": null,
   "id": "a3d2ff1d",
   "metadata": {},
   "outputs": [],
   "source": [
    "bus_data"
   ]
  },
  {
   "cell_type": "markdown",
   "id": "f88189c5",
   "metadata": {},
   "source": [
    "SQL Connection"
   ]
  },
  {
   "cell_type": "code",
   "execution_count": null,
   "id": "561d989b",
   "metadata": {},
   "outputs": [],
   "source": [
    "import pandas as pd\n",
    "#import mysql.connector\n",
    "import pymysql\n",
    "#import streamlit as st\n",
    "\n",
    "# MySQL connection setup\n",
    "db_config = {\n",
    "    'user': 'root',\n",
    "    'password': 'Ta9ta6me@27',\n",
    "    'host': 'localhost',\n",
    "    'database': 'redbus'\n",
    "}\n",
    "\n",
    "# Connect to the database\n",
    "conn = pymysql.connect(**db_config)\n",
    "cursor = conn.cursor()\n",
    "\n",
    "# Create the table\n",
    "create_table_query = \"\"\"\n",
    "CREATE TABLE IF NOT EXISTS Andhra_buses (\n",
    "    \n",
    "    Names VARCHAR(255),\n",
    "    Bus_fare FLOAT,\n",
    "     Ratings FLOAT,\n",
    "      Seats INT,\n",
    "    Bus_types VARCHAR(255),\n",
    "    Starting_time VARCHAR(255),\n",
    "    Duration VARCHAR(255),\n",
    "    Ending_time VARCHAR(255),\n",
    "    Starting_point VARCHAR(255)\n",
    "   \n",
    "    \n",
    "   \n",
    ")\n",
    "\"\"\"\n",
    "cursor.execute(create_table_query)\n",
    "# Load data from CSV\n",
    "bus_data = pd.read_csv('Andhra.csv')\n",
    "bus_data.fillna(0,inplace=True)\n",
    "# Extract numerical values from 'Bus_fare' column (assuming consistent formatting)\n",
    "bus_data['Bus_fare'] = bus_data['Bus_fare'].str.replace('INR ', '', regex=True).astype(float)\n",
    "\n",
    "# Drop the unnamed first column(there is an unwanted column 0)\n",
    "bus_data = bus_data.iloc[:, 1:]\n",
    "# Stripping text from seats_available column\n",
    "bus_data['Seats'] = bus_data['Seats'].str.extract('(\\d+)').fillna(0).astype(int)\n",
    "\n",
    "insert_query = \"\"\"\n",
    "    INSERT INTO Andhra_buses (Names,Bus_fare,Ratings,Seats,Bus_types, \n",
    "    Starting_time, Duration,Ending_time,Starting_point)\n",
    "    VALUES (%s, %s, %s, %s, %s, %s, %s, %s, %s)\n",
    "\"\"\"\n",
    "for index, row in bus_data.iterrows():\n",
    "    cursor.execute(insert_query, (\n",
    "        row['Names'], row['Bus_fare'], row['Ratings'], row['Seats'], \n",
    "        row['Bus_types'], row['Starting_time'], row['Duration'], row['Ending_time'], \n",
    "        row['Starting_point']\n",
    "    ))\n",
    "\n",
    "\n",
    "conn.commit()\n",
    "\n",
    "# Close the connection\n",
    "cursor.close()\n",
    "conn.close()"
   ]
  },
  {
   "cell_type": "code",
   "execution_count": null,
   "id": "a391c869",
   "metadata": {},
   "outputs": [],
   "source": []
  },
  {
   "cell_type": "code",
   "execution_count": null,
   "id": "778decb8",
   "metadata": {},
   "outputs": [],
   "source": [
    "bus_data.isna().sum()"
   ]
  },
  {
   "cell_type": "code",
   "execution_count": null,
   "id": "c1fff1a3",
   "metadata": {},
   "outputs": [],
   "source": []
  }
 ],
 "metadata": {
  "kernelspec": {
   "display_name": "Python 3 (ipykernel)",
   "language": "python",
   "name": "python3"
  },
  "language_info": {
   "codemirror_mode": {
    "name": "ipython",
    "version": 3
   },
   "file_extension": ".py",
   "mimetype": "text/x-python",
   "name": "python",
   "nbconvert_exporter": "python",
   "pygments_lexer": "ipython3",
   "version": "3.11.5"
  }
 },
 "nbformat": 4,
 "nbformat_minor": 5
}
