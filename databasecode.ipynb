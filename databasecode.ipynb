{
 "cells": [
  {
   "cell_type": "code",
   "execution_count": null,
   "metadata": {},
   "outputs": [],
   "source": [
    "import pandas as pd\n",
    "#import mysql.connector\n",
    "import pymysql\n",
    "import streamlit as st\n",
    "\n",
    "# MySQL connection setup\n",
    "db_config = {\n",
    "    'user': 'root',\n",
    "    'password': '2594',\n",
    "    'host': 'localhost',\n",
    "    'database': 'busdata_db'\n",
    "}\n",
    "\n",
    "# Connect to the database\n",
    "conn = pymysql.connect(**db_config)\n",
    "cursor = conn.cursor()\n",
    "\n",
    "# Create the table\n",
    "create_table_query = \"\"\"\n",
    "CREATE TABLE IF NOT EXISTS buses (\n",
    "    \n",
    "    route_link TEXT,\n",
    "    busname VARCHAR(255),\n",
    "    bustype VARCHAR(255),\n",
    "    departing_time VARCHAR(255),\n",
    "    duration VARCHAR(255),\n",
    "    reaching_time VARCHAR(255),\n",
    "    star_rating FLOAT,\n",
    "    price FLOAT,\n",
    "    seats_available INT\n",
    ")\n",
    "\"\"\"\n",
    "cursor.execute(create_table_query)\n",
    "# Load data from CSV\n",
    "bus_data = pd.read_csv('APBus_Govt_Private.csv')\n",
    "\n",
    "# Drop the unnamed first column(there is an unwanted column 0)\n",
    "bus_data = bus_data.iloc[:, 1:]\n",
    "# Stripping text from seats_available column\n",
    "bus_data['seats_available'] = bus_data['seats_available'].str.extract('(\\d+)').fillna(0).astype(int)\n",
    "\n",
    "insert_query = \"\"\"\n",
    "    INSERT INTO buses (route_link, busname, bustype, departing_time, duration, reaching_time, star_rating, price, seats_available)\n",
    "    VALUES (%s, %s, %s, %s, %s, %s, %s, %s, %s)\n",
    "\"\"\"\n",
    "for index, row in bus_data.iterrows():\n",
    "    cursor.execute(insert_query, (\n",
    "        row['route_link'], row['busname'], row['bustype'], row['departing_time'], \n",
    "        row['duration'], row['reaching_time'], row['star_rating'], row['price'], \n",
    "        row['seats_available']\n",
    "    ))\n",
    "\n",
    "\n",
    "conn.commit()\n",
    "\n",
    "# Close the connection\n",
    "cursor.close()\n",
    "conn.close()"
   ]
  }
 ],
 "metadata": {
  "kernelspec": {
   "display_name": "Python 3 (ipykernel)",
   "language": "python",
   "name": "python3"
  },
  "language_info": {
   "codemirror_mode": {
    "name": "ipython",
    "version": 3
   },
   "file_extension": ".py",
   "mimetype": "text/x-python",
   "name": "python",
   "nbconvert_exporter": "python",
   "pygments_lexer": "ipython3",
   "version": "3.11.5"
  },
  "vscode": {
   "interpreter": {
    "hash": "c703d9b332acc10209d52dc6dfb15bb88c7701d2a1dd8dfc007f8dd382943fbd"
   }
  }
 },
 "nbformat": 4,
 "nbformat_minor": 2
}
