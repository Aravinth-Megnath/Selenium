{
 "cells": [
  {
   "cell_type": "code",
   "execution_count": 36,
   "id": "e7e62cda",
   "metadata": {},
   "outputs": [
    {
     "name": "stdout",
     "output_type": "stream",
     "text": [
      "Requirement already satisfied: beautifulsoup4 in c:\\users\\hp\\anaconda3\\lib\\site-packages (4.12.2)\n",
      "Requirement already satisfied: soupsieve>1.2 in c:\\users\\hp\\anaconda3\\lib\\site-packages (from beautifulsoup4) (2.4)\n",
      "Note: you may need to restart the kernel to use updated packages.\n"
     ]
    }
   ],
   "source": [
    "pip install beautifulsoup4"
   ]
  },
  {
   "cell_type": "code",
   "execution_count": 1,
   "id": "35a8da4e",
   "metadata": {},
   "outputs": [],
   "source": [
    "from bs4 import BeautifulSoup\n",
    "from selenium import webdriver\n"
   ]
  },
  {
   "cell_type": "code",
   "execution_count": 5,
   "id": "7c8bffb5",
   "metadata": {},
   "outputs": [],
   "source": [
    "from bs4 import BeautifulSoup\n",
    "from selenium import webdriver\n",
    "\n"
   ]
  },
  {
   "cell_type": "code",
   "execution_count": null,
   "id": "fb498950",
   "metadata": {},
   "outputs": [],
   "source": []
  },
  {
   "cell_type": "code",
   "execution_count": 20,
   "id": "aa73a992",
   "metadata": {},
   "outputs": [],
   "source": [
    "import time\n",
    "\n",
    "from selenium import webdriver\n",
    "from selenium.webdriver.common.by import By\n",
    "from selenium.webdriver.common.keys import Keys\n",
    "\n",
    "\n",
    "driver = webdriver.Chrome()  # Optional argument, if not specified will search path.\n",
    "\n",
    "driver.get('https://www.insurancedekho.com/health-insurance/quotes?request=6655beacd5b6a38feb19a9ea');\n",
    "\n",
    "time.sleep(5) # Let the user actually see something!\n",
    "\n",
    "BrandNameElements = driver.find_elements(By.XPATH,\"//div[@class = 'brandNam black3 bold']\")\n",
    "#ClaimSectionsElements = driver.find_elements(By.CSS_SELECTOR,\"div.clameSection>span\")\n",
    "PriceElements = driver.find_elements(By.XPATH,\"//span[@class='rupees-f16']\")\n",
    "#PlanNameElements = driver.find_elements(By.CSS_SELECTOR,'h2')\n",
    "#AnnualPriceElements = driver.find_elements(By.XPATH, \"//span[@class='annualprice']\")\n",
    "\n",
    "brands = [i.text  for i in  BrandNameElements]\n",
    "#claims = [i.text for i in ClaimSectionsElements]\n",
    "price = [i.text for i in PriceElements ]\n",
    "#plans = [i.text for i in PlanNameElements]\n",
    "#annual_price = [i.text for i in AnnualPriceElements]\n",
    "\n",
    "details = {'Brands': brands, #'Claims': claims, \n",
    "           'Price per Month': price, \n",
    "           #'Plans' : plans, 'Price per Year' : annual_price\n",
    "          }\n",
    "\n",
    "html_content = driver.page_source\n",
    "\n",
    "soup = BeautifulSoup(html_content, 'html.parser')\n",
    "\n"
   ]
  },
  {
   "cell_type": "code",
   "execution_count": 21,
   "id": "232d878d",
   "metadata": {},
   "outputs": [
    {
     "data": {
      "text/html": [
       "<div>\n",
       "<style scoped>\n",
       "    .dataframe tbody tr th:only-of-type {\n",
       "        vertical-align: middle;\n",
       "    }\n",
       "\n",
       "    .dataframe tbody tr th {\n",
       "        vertical-align: top;\n",
       "    }\n",
       "\n",
       "    .dataframe thead th {\n",
       "        text-align: right;\n",
       "    }\n",
       "</style>\n",
       "<table border=\"1\" class=\"dataframe\">\n",
       "  <thead>\n",
       "    <tr style=\"text-align: right;\">\n",
       "      <th></th>\n",
       "      <th>Brands</th>\n",
       "      <th>Price per Month</th>\n",
       "    </tr>\n",
       "  </thead>\n",
       "  <tbody>\n",
       "    <tr>\n",
       "      <th>0</th>\n",
       "      <td>Care Health</td>\n",
       "      <td>₹661\\n /month</td>\n",
       "    </tr>\n",
       "    <tr>\n",
       "      <th>1</th>\n",
       "      <td>Aditya Birla</td>\n",
       "      <td>₹771\\n /month</td>\n",
       "    </tr>\n",
       "    <tr>\n",
       "      <th>2</th>\n",
       "      <td>Niva Bupa</td>\n",
       "      <td>₹728\\n /month</td>\n",
       "    </tr>\n",
       "    <tr>\n",
       "      <th>3</th>\n",
       "      <td></td>\n",
       "      <td></td>\n",
       "    </tr>\n",
       "    <tr>\n",
       "      <th>4</th>\n",
       "      <td></td>\n",
       "      <td></td>\n",
       "    </tr>\n",
       "  </tbody>\n",
       "</table>\n",
       "</div>"
      ],
      "text/plain": [
       "         Brands Price per Month\n",
       "0   Care Health   ₹661\\n /month\n",
       "1  Aditya Birla   ₹771\\n /month\n",
       "2     Niva Bupa   ₹728\\n /month\n",
       "3                              \n",
       "4                              "
      ]
     },
     "execution_count": 21,
     "metadata": {},
     "output_type": "execute_result"
    }
   ],
   "source": [
    "import pandas as pd\n",
    "df = pd.DataFrame(details)\n",
    "df.head()"
   ]
  },
  {
   "cell_type": "code",
   "execution_count": 36,
   "id": "9e2faace",
   "metadata": {},
   "outputs": [],
   "source": [
    "import time\n",
    "\n",
    "from selenium import webdriver\n",
    "from selenium.webdriver.common.by import By\n",
    "from selenium.webdriver.common.keys import Keys\n",
    "\n",
    "\n",
    "driver = webdriver.Chrome()  # Optional argument, if not specified will search path.\n",
    "\n",
    "driver.get('https://www.insurancedekho.com/health-insurance/quotes?request=6655beacd5b6a38feb19a9ea');\n",
    "tml_content = driver.page_source\n",
    "\n",
    "soup = BeautifulSoup(html_content, 'html.parser')\n",
    "\n",
    "\n",
    "time.sleep(5) # Let the user actually see something!\n",
    "\n",
    "plans = driver.find_elements(By.XPATH,\"//div[@class = 'brandNam black3 bold']\")\n",
    "claim_sections = driver.find_elements(By.CSS_SELECTOR,\"div.clameSection>span\")"
   ]
  },
  {
   "cell_type": "code",
   "execution_count": 37,
   "id": "2aaee658",
   "metadata": {},
   "outputs": [
    {
     "data": {
      "text/plain": [
       "56"
      ]
     },
     "execution_count": 37,
     "metadata": {},
     "output_type": "execute_result"
    }
   ],
   "source": [
    "len(claim_sections)"
   ]
  },
  {
   "cell_type": "code",
   "execution_count": 40,
   "id": "dc1a3b06",
   "metadata": {},
   "outputs": [],
   "source": [
    "claim = soup.find_all('div',class_='clameSection')"
   ]
  }
 ],
 "metadata": {
  "kernelspec": {
   "display_name": "Python 3 (ipykernel)",
   "language": "python",
   "name": "python3"
  },
  "language_info": {
   "codemirror_mode": {
    "name": "ipython",
    "version": 3
   },
   "file_extension": ".py",
   "mimetype": "text/x-python",
   "name": "python",
   "nbconvert_exporter": "python",
   "pygments_lexer": "ipython3",
   "version": "3.11.5"
  }
 },
 "nbformat": 4,
 "nbformat_minor": 5
}
